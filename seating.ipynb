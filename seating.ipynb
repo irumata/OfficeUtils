{
 "cells": [
  {
   "cell_type": "code",
   "execution_count": 1,
   "metadata": {},
   "outputs": [],
   "source": [
    "import sys\n",
    "import pandas as pd\n",
    "import itertools\n",
    "import copy\n",
    "\n",
    "\n",
    "arr = dict()\n",
    "arr['Jenia'] = [[10],[12], [13] ]\n",
    "arr['Nick'] = [[ 5,12],[8,10],[1,3]]\n",
    "arr['Petia'] = [[10],[12, 8],[7,13]]\n",
    "arr['Vasili'] =  [[8],[10, 11], [12, 13, 14]]\n",
    "arr['Anton'] = [[1],[5, 8, 10, 12],[11, 4]]\n",
    "arr['Dasha'] = [[1],[3],[5],[2],[7]]\n",
    "arr['Nick_2'] =[[12],[11, 7, 5],[10, 4]]\n",
    "arr['Petr'] = [[12, 11],[10],[5,8]]\n",
    "arr['Irina']  = [[12],[10],[5]]\n",
    "arr['Sergey'] = [[8], [11], [12], [13], [10], [14]]\n",
    " \n",
    "allposs = {i  for u in arr.values() for l in u for i in l  }\n"
   ]
  },
  {
   "cell_type": "code",
   "execution_count": 2,
   "metadata": {},
   "outputs": [
    {
     "data": {
      "text/plain": [
       "[[10, 12, 13],\n",
       " [5, 12, 8, 10, 1, 3],\n",
       " [10, 12, 8, 7, 13],\n",
       " [8, 10, 11, 12, 13, 14],\n",
       " [1, 5, 8, 10, 12, 11, 4],\n",
       " [1, 3, 5, 2, 7],\n",
       " [12, 11, 7, 5, 10, 4],\n",
       " [12, 11, 10, 5, 8],\n",
       " [12, 10, 5],\n",
       " [8, 11, 12, 13, 10, 14]]"
      ]
     },
     "execution_count": 2,
     "metadata": {},
     "output_type": "execute_result"
    }
   ],
   "source": [
    "#old\n",
    "list_of_levels =  [list({ elem for emp in arr.values()  for i, level in enumerate(emp) if i<=ind for elem in level  }) for ind in range(len(arr))]\n",
    "#new\n",
    "list_of_levels = [[ val for level in emp for val in level] for emp in arr.values()]\n",
    "list_of_levels"
   ]
  },
  {
   "cell_type": "code",
   "execution_count": 3,
   "metadata": {},
   "outputs": [
    {
     "data": {
      "text/plain": [
       "[0, 1, 2, 3, 4, 5, 6, 7, 8, 9]"
      ]
     },
     "execution_count": 3,
     "metadata": {},
     "output_type": "execute_result"
    }
   ],
   "source": [
    "indexes = [i for i in range(len(list_of_levels))]\n",
    "indexes"
   ]
  },
  {
   "cell_type": "code",
   "execution_count": 4,
   "metadata": {},
   "outputs": [],
   "source": [
    "def get_all_perms(list_of_levels_loc):\n",
    "    if len(list_of_levels_loc) == 1:\n",
    "        return [ [i] for i in list_of_levels_loc[0]]\n",
    "    res = []\n",
    "    for level_val in list_of_levels_loc[0]:\n",
    "        list_copy = [[  val   for val in level if val != level_val] for level in list_of_levels_loc[1:]]\n",
    "        perms = get_all_perms(list_copy)\n",
    "        res+= [ [level_val] + perm for perm in perms]\n",
    "    return res\n",
    "            \n",
    "        \n",
    "   \n",
    "         "
   ]
  },
  {
   "cell_type": "code",
   "execution_count": 5,
   "metadata": {},
   "outputs": [],
   "source": [
    " \n",
    "def get_sum(val):\n",
    "    res=0\n",
    "    for i,emps in enumerate(arr.values()):\n",
    "        p = val[i]\n",
    "        startVal=2\n",
    "        for level in emps:\n",
    "            if p in level:\n",
    "                break\n",
    "            startVal=startVal*2\n",
    "        res+=startVal\n",
    "        startVal = 0\n",
    "    return res\n",
    " "
   ]
  },
  {
   "cell_type": "code",
   "execution_count": null,
   "metadata": {},
   "outputs": [],
   "source": []
  },
  {
   "cell_type": "code",
   "execution_count": 6,
   "metadata": {
    "scrolled": true
   },
   "outputs": [
    {
     "name": "stdout",
     "output_type": "stream",
     "text": [
      "get min                                       perm  res\n",
      "78    [10, 5, 13, 14, 1, 3, 7, 11, 12, 8]   36\n",
      "3896  [13, 5, 10, 14, 1, 3, 7, 11, 12, 8]   36\n",
      "Result  0 {'Jenia': 10, 'Nick': 5, 'Petia': 13, 'Vasili': 14, 'Anton': 1, 'Dasha': 3, 'Nick_2': 7, 'Petr': 11, 'Irina': 12, 'Sergey': 8}\n",
      "Result  1 {'Jenia': 13, 'Nick': 5, 'Petia': 10, 'Vasili': 14, 'Anton': 1, 'Dasha': 3, 'Nick_2': 7, 'Petr': 11, 'Irina': 12, 'Sergey': 8}\n",
      "CPU times: user 123 ms, sys: 0 ns, total: 123 ms\n",
      "Wall time: 122 ms\n"
     ]
    }
   ],
   "source": [
    "%%time\n",
    "res = get_all_perms(list_of_levels)\n",
    "\n",
    "#old principile - test all permutations very time consuming\n",
    "#res = list(set(itertools.permutations(allposs,len(arr) )))\n",
    " \n",
    " \n",
    "a  = pd.DataFrame({\"perm\":res})\n",
    "a[\"res\"] = a.perm.apply(get_sum)\n",
    "min_v = a[\"res\"].min()\n",
    "print(\"get min \",a[a.res==min_v])\n",
    "res_lists=  a[a.res==min_v].perm.tolist()\n",
    "resl = list()\n",
    "for r in res_lists:\n",
    "    resl_i = {k:r[i]  for i,k in enumerate(arr.keys())}\n",
    "    resl.append(resl_i)\n",
    "for i, res in enumerate(resl):\n",
    "    print(\"Result \",i,  res)\n",
    " \n",
    " \n",
    " "
   ]
  },
  {
   "cell_type": "code",
   "execution_count": null,
   "metadata": {},
   "outputs": [],
   "source": []
  }
 ],
 "metadata": {
  "kernelspec": {
   "display_name": "Python 3",
   "language": "python",
   "name": "python3"
  },
  "language_info": {
   "codemirror_mode": {
    "name": "ipython",
    "version": 3
   },
   "file_extension": ".py",
   "mimetype": "text/x-python",
   "name": "python",
   "nbconvert_exporter": "python",
   "pygments_lexer": "ipython3",
   "version": "3.7.1"
  }
 },
 "nbformat": 4,
 "nbformat_minor": 2
}
